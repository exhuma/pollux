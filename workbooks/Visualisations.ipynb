{
 "cells": [
  {
   "cell_type": "code",
   "execution_count": null,
   "metadata": {},
   "outputs": [],
   "source": [
    "import pandas as pd\n",
    "import seaborn as sns\n",
    "import matplotlib.pyplot as plt\n",
    "import ipywidgets as widgets\n",
    "from ipywidgets import interact, interactive, fixed, interact_manual\n",
    "%matplotlib inline"
   ]
  },
  {
   "cell_type": "code",
   "execution_count": null,
   "metadata": {},
   "outputs": [],
   "source": [
    "df = pd.read_csv(\"1996-2020.csv\")\n",
    "df[\"date\"] = df[\"date\"].apply(pd.to_datetime)\n",
    "df = df.set_index(\"date\")\n",
    "daily = df.groupby(by=[df.index.year, df.index.month, df.index.day]).median()"
   ]
  },
  {
   "cell_type": "code",
   "execution_count": null,
   "metadata": {},
   "outputs": [],
   "source": [
    "def plot_heatmap(genus=\"Quercus\"):\n",
    "    x = df.filter([genus])\n",
    "    x[\"year\"] = x.index.year\n",
    "    x[\"day\"] = x.index.map(lambda z: (z.month, z.day))\n",
    "#     x = x.fillna(\"ffill\").rolling(5, center=True).median()\n",
    "#     return x\n",
    "\n",
    "    yearly = x.pivot(\n",
    "        index=\"year\",\n",
    "        columns=\"day\",\n",
    "        values=genus\n",
    "    )\n",
    "    plt.figure(figsize=(16, 10))\n",
    "    sns.heatmap(yearly)\n",
    "\n",
    "interact(plot_heatmap, genus=list(df.columns))"
   ]
  },
  {
   "cell_type": "code",
   "execution_count": null,
   "metadata": {},
   "outputs": [],
   "source": []
  }
 ],
 "metadata": {
  "kernelspec": {
   "display_name": "Python 3",
   "language": "python",
   "name": "python3"
  },
  "language_info": {
   "codemirror_mode": {
    "name": "ipython",
    "version": 3
   },
   "file_extension": ".py",
   "mimetype": "text/x-python",
   "name": "python",
   "nbconvert_exporter": "python",
   "pygments_lexer": "ipython3",
   "version": "3.8.2"
  }
 },
 "nbformat": 4,
 "nbformat_minor": 4
}
