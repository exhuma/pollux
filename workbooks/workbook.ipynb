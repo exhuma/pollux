{
 "cells": [
  {
   "cell_type": "code",
   "execution_count": null,
   "metadata": {},
   "outputs": [],
   "source": [
    "import pandas as pd\n",
    "import seaborn as sns\n",
    "import matplotlib\n",
    "import matplotlib.pyplot as plt\n",
    "from typing import NamedTuple\n",
    "import ipywidgets as widgets\n",
    "from IPython.display import display\n",
    "\n",
    "%matplotlib inline\n",
    "sns.set()\n",
    "matplotlib.rcParams['figure.figsize'] = (15.0, 10.0)\n",
    "\n",
    "Bounds = NamedTuple('Bounds', [('lower', int), ('upper', int)])\n",
    "\n",
    "def extract_nonzeroes(data: pd.core.frame.DataFrame, name: str, bounds: Bounds) -> pd.core.series.Series:\n",
    "    '''\n",
    "    Extract a series of data where the pollen-count\n",
    "    for that name is larger than zero\n",
    "    '''\n",
    "    return data[(data[name] >= bounds.lower) & (data[name] < bounds.upper)][name]\n",
    "\n",
    "NAMES = [\n",
    "    'Acer',\n",
    "    'Aesculus',\n",
    "    'Alnus',\n",
    "    'Ambrosia',\n",
    "    'Artemisia',\n",
    "    'Asteraceae',\n",
    "    'Betula',\n",
    "    'Carpinus',\n",
    "    'Castanea',\n",
    "    'Chenopodium',\n",
    "    'Corylus',\n",
    "    'Cupressaceae',\n",
    "    'Cyperaceae',\n",
    "    'Ericaceae',\n",
    "    'Fagus',\n",
    "    'Filipendula',\n",
    "    'Fraxinus',\n",
    "    'Gramineae',\n",
    "    'Juglans',\n",
    "    'Juncaceae',\n",
    "    'Larix',\n",
    "    'Pinaceae',\n",
    "    'Plantago',\n",
    "    'Platanus',\n",
    "    'Populus',\n",
    "    'Quercus',\n",
    "    'Rumex',\n",
    "    'Salix',\n",
    "    'Sambucus',\n",
    "    'Tilia',\n",
    "    'Ulmus',\n",
    "    'Umbellifereae',\n",
    "    'Urtica'\n",
    "]\n",
    "SELECTED_POLLEN = widgets.Dropdown(\n",
    "    value='Gramineae',\n",
    "    description='Pollen',\n",
    "    options=NAMES)\n",
    "display(SELECTED_POLLEN)"
   ]
  },
  {
   "cell_type": "code",
   "execution_count": null,
   "metadata": {},
   "outputs": [],
   "source": [
    "pollen_data = pd.read_csv('../full_export.csv', index_col=0, parse_dates=True)\n",
    "pollen_data = pollen_data.reset_index()\n",
    "pollen_data.head()\n",
    "pollen_data['newdate'] = pollen_data['date'].apply(lambda x: x.date())\n",
    "pollen_data = pollen_data.drop('date', axis=1)\n",
    "pollen_data = pollen_data.set_index('newdate')"
   ]
  },
  {
   "cell_type": "code",
   "execution_count": null,
   "metadata": {},
   "outputs": [],
   "source": [
    "pollen_data[SELECTED_POLLEN.value].describe()"
   ]
  },
  {
   "cell_type": "code",
   "execution_count": null,
   "metadata": {},
   "outputs": [],
   "source": [
    "fig, (ax1, ax2) = plt.subplots(2)\n",
    "ax1.set_title('%s - Bounded' % SELECTED_POLLEN.value)\n",
    "ax2.set_title('%s - 95th percentile' % SELECTED_POLLEN.value)\n",
    "sns.boxplot(extract_nonzeroes(pollen_data, SELECTED_POLLEN.value, Bounds(0, 200)), ax=ax1)\n",
    "filter_ = pollen_data[SELECTED_POLLEN.value] <= pollen_data[SELECTED_POLLEN.value].quantile(.95)\n",
    "by_percentile = pollen_data[filter_][SELECTED_POLLEN.value]\n",
    "sns.boxplot(by_percentile, ax=ax2)"
   ]
  },
  {
   "cell_type": "code",
   "execution_count": null,
   "metadata": {},
   "outputs": [],
   "source": [
    "limited_data = pd.DataFrame()\n",
    "for name in NAMES:\n",
    "    limited_data[name] = pollen_data[pollen_data[name] <= pollen_data[name].quantile(.95)][name]\n",
    "sns.boxplot(data=limited_data, orient='h')"
   ]
  },
  {
   "cell_type": "code",
   "execution_count": null,
   "metadata": {},
   "outputs": [],
   "source": [
    "def normalise(expected_max):\n",
    "    def fun(value):\n",
    "        if expected_max == 0:\n",
    "            return value\n",
    "        return min(1, (value/expected_max))\n",
    "    return fun\n",
    "\n",
    "pollen_data['normalised'] = pollen_data[SELECTED_POLLEN.value].apply(normalise(pollen_data[SELECTED_POLLEN.value].quantile(.95)))\n",
    "from datetime import date\n",
    "to_plot = pollen_data.loc[(pollen_data.index >= date(2000, 1, 1)) & (pollen_data.index < date(9999, 1, 1) )]\n",
    "fig, ax1 = plt.subplots()\n",
    "ax2 = ax1.twinx()\n",
    "ax1.legend()\n",
    "sns.tsplot(to_plot[SELECTED_POLLEN.value], ax=ax1, color='blue', alpha=.2)\n",
    "sns.tsplot(to_plot['normalised'], ax=ax2, color='green')\n"
   ]
  },
  {
   "cell_type": "code",
   "execution_count": null,
   "metadata": {},
   "outputs": [],
   "source": [
    "pollen_data[pollen_data.index > date(2014, 1, 1)]['Gramineae'].plot()"
   ]
  },
  {
   "cell_type": "code",
   "execution_count": null,
   "metadata": {},
   "outputs": [],
   "source": []
  },
  {
   "cell_type": "code",
   "execution_count": null,
   "metadata": {},
   "outputs": [],
   "source": []
  },
  {
   "cell_type": "code",
   "execution_count": null,
   "metadata": {},
   "outputs": [],
   "source": []
  }
 ],
 "metadata": {
  "kernelspec": {
   "display_name": "Python 3",
   "language": "python",
   "name": "python3"
  },
  "language_info": {
   "codemirror_mode": {
    "name": "ipython",
    "version": 3
   },
   "file_extension": ".py",
   "mimetype": "text/x-python",
   "name": "python",
   "nbconvert_exporter": "python",
   "pygments_lexer": "ipython3",
   "version": "3.6.5"
  }
 },
 "nbformat": 4,
 "nbformat_minor": 2
}
